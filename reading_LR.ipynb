{
 "cells": [
  {
   "cell_type": "markdown",
   "id": "ac78eb5b",
   "metadata": {},
   "source": [
    "DEFINITION\n",
    "logistic regression"
   ]
  },
  {
   "cell_type": "markdown",
   "id": "84182197",
   "metadata": {},
   "source": [
    "https://www.techtarget.com/searchbusinessanalytics/definition/logistic-regression"
   ]
  },
  {
   "cell_type": "markdown",
   "id": "e4465166",
   "metadata": {},
   "source": [
    "Building  A logistic Regression in Python"
   ]
  },
  {
   "cell_type": "markdown",
   "id": "b6180321",
   "metadata": {},
   "source": [
    "https://towardsdatascience.com/building-a-logistic-regression-in-python-step-by-step-becd4d56c9c8"
   ]
  },
  {
   "cell_type": "markdown",
   "id": "e13d1b04",
   "metadata": {},
   "source": [
    "Logistic regression (simple definition) "
   ]
  },
  {
   "cell_type": "markdown",
   "id": "cc0e0157",
   "metadata": {},
   "source": [
    "https://datascientest.com/regression-logistique-quest-ce-que-cest#:~:text=La%20r%C3%A9gression%20logistique%20est%20un,logistique%20comme%20fonction%20de%20lien."
   ]
  },
  {
   "cell_type": "markdown",
   "id": "efd42111",
   "metadata": {},
   "source": [
    "https://www.simplilearn.com/tutorials/machine-learning-tutorial/classification-in-machine-learning"
   ]
  },
  {
   "cell_type": "markdown",
   "id": "e0cbd296",
   "metadata": {},
   "source": [
    "Model Evaluation"
   ]
  },
  {
   "cell_type": "markdown",
   "id": "99887962",
   "metadata": {},
   "source": [
    "https://leandeep.com/evaluer-ses-mod%C3%A8les-de-classification/"
   ]
  }
 ],
 "metadata": {
  "kernelspec": {
   "display_name": "Python 3 (ipykernel)",
   "language": "python",
   "name": "python3"
  },
  "language_info": {
   "codemirror_mode": {
    "name": "ipython",
    "version": 3
   },
   "file_extension": ".py",
   "mimetype": "text/x-python",
   "name": "python",
   "nbconvert_exporter": "python",
   "pygments_lexer": "ipython3",
   "version": "3.9.13"
  }
 },
 "nbformat": 4,
 "nbformat_minor": 5
}
